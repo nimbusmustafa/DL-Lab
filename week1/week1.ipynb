{
 "cells": [
  {
   "cell_type": "code",
   "execution_count": 1,
   "metadata": {},
   "outputs": [
    {
     "name": "stdout",
     "output_type": "stream",
     "text": [
      "2.5.1+cu124\n",
      "True\n",
      "1\n"
     ]
    }
   ],
   "source": [
    "import torch\n",
    "print(torch.__version__)\n",
    "print(torch.cuda.is_available())\n",
    "print(torch.cuda.device_count())\n",
    "\n"
   ]
  },
  {
   "cell_type": "code",
   "execution_count": 16,
   "metadata": {},
   "outputs": [
    {
     "name": "stdout",
     "output_type": "stream",
     "text": [
      "Original Tensor:\n",
      "tensor([[1, 2, 3],\n",
      "        [4, 5, 6]])\n",
      "\n",
      "Reshaped Tensor (3, 2):\n",
      "tensor([[1, 2],\n",
      "        [3, 4],\n",
      "        [5, 6]])\n",
      "\n",
      "Viewed Tensor (3, 2):\n",
      "tensor([[1, 2],\n",
      "        [3, 4],\n",
      "        [5, 6]])\n",
      "\n",
      "Stacked Tensor (along dim=0):\n",
      "tensor([[1, 2, 3],\n",
      "        [4, 5, 6]])\n",
      "\n",
      "Squeezed Tensor:\n",
      "tensor([1, 2, 3])\n",
      "\n",
      "Unsqueezed Tensor (added dimension at position 1):\n",
      "tensor([[[1, 2, 3]],\n",
      "\n",
      "        [[4, 5, 6]]])\n"
     ]
    }
   ],
   "source": [
    "import numpy as np\n",
    "# 1. Reshaping, viewing, stacking, squeezing, and unsqueezing tensors\n",
    "x = torch.tensor([[1, 2, 3], [4, 5, 6]])\n",
    "print(\"Original Tensor:\")\n",
    "print(x)\n",
    "\n",
    "# Reshaping\n",
    "reshaped_x = x.reshape(3, 2)\n",
    "print(\"\\nReshaped Tensor (3, 2):\")\n",
    "print(reshaped_x)\n",
    "\n",
    "# Viewing\n",
    "viewed_x = x.view(3, 2)\n",
    "print(\"\\nViewed Tensor (3, 2):\")\n",
    "print(viewed_x)\n",
    "\n",
    "# Stacking\n",
    "a = torch.tensor([1, 2, 3])\n",
    "b = torch.tensor([4, 5, 6])\n",
    "stacked_tensor = torch.stack((a, b), dim=0)\n",
    "print(\"\\nStacked Tensor (along dim=0):\")\n",
    "print(stacked_tensor)\n",
    "\n",
    "# Squeezing\n",
    "x_with_ones = torch.tensor([[[1, 2, 3]]])  # shape (1, 1, 3)\n",
    "squeezed_x = x_with_ones.squeeze()\n",
    "print(\"\\nSqueezed Tensor:\")\n",
    "print(squeezed_x)\n",
    "\n",
    "# Unsqueezing\n",
    "unsqueezed_x = x.unsqueeze(1)  # shape (1, 2, 3)\n",
    "print(\"\\nUnsqueezed Tensor (added dimension at position 1):\")\n",
    "print(unsqueezed_x)"
   ]
  },
  {
   "cell_type": "code",
   "execution_count": 4,
   "metadata": {},
   "outputs": [
    {
     "name": "stdout",
     "output_type": "stream",
     "text": [
      "\n",
      "Permuted Tensor:\n",
      "tensor([[1, 4],\n",
      "        [2, 5],\n",
      "        [3, 6]])\n"
     ]
    }
   ],
   "source": [
    "# 2. Using torch.permute()\n",
    "# Permuting a tensor changes the order of its dimensions\n",
    "perm_x = x.permute(1, 0)  # Swap the rows and columns\n",
    "print(\"\\nPermuted Tensor:\")\n",
    "print(perm_x)"
   ]
  },
  {
   "cell_type": "code",
   "execution_count": 17,
   "metadata": {},
   "outputs": [
    {
     "name": "stdout",
     "output_type": "stream",
     "text": [
      "\n",
      "Element at (1,2):\n",
      "tensor(6)\n",
      "\n",
      "Sliced Tensor (all rows, starting from second column):\n",
      "tensor([[2, 3],\n",
      "        [5, 6]])\n"
     ]
    }
   ],
   "source": [
    "# 3. Indexing in tensors\n",
    "# Accessing a specific element\n",
    "print(\"\\nElement at (1,2):\")\n",
    "print(x[1, 2])\n",
    "\n",
    "# Slicing the tensor\n",
    "sliced_x = x[:, 1:]  # All rows, starting from the second column\n",
    "print(\"\\nSliced Tensor (all rows, starting from second column):\")\n",
    "print(sliced_x)\n",
    "\n"
   ]
  },
  {
   "cell_type": "code",
   "execution_count": 7,
   "metadata": {},
   "outputs": [
    {
     "name": "stdout",
     "output_type": "stream",
     "text": [
      "\n",
      "Numpy array converted to tensor:\n",
      "tensor([[1, 2, 3],\n",
      "        [4, 5, 6]])\n",
      "\n",
      "Tensor converted back to numpy array:\n",
      "[[1 2 3]\n",
      " [4 5 6]]\n"
     ]
    }
   ],
   "source": [
    "# 4. Converting numpy arrays to tensors and vice versa\n",
    "np_array = np.array([[1, 2, 3], [4, 5, 6]])\n",
    "tensor_from_np = torch.tensor(np_array)\n",
    "print(\"\\nNumpy array converted to tensor:\")\n",
    "print(tensor_from_np)\n",
    "\n",
    "tensor_back_to_np = tensor_from_np.numpy()\n",
    "print(\"\\nTensor converted back to numpy array:\")\n",
    "print(tensor_back_to_np)"
   ]
  },
  {
   "cell_type": "code",
   "execution_count": 18,
   "metadata": {},
   "outputs": [
    {
     "name": "stdout",
     "output_type": "stream",
     "text": [
      "\n",
      "Random Tensor (7x7):\n",
      "tensor([[ 0.1984,  0.7821,  1.0391, -0.7245, -0.8489, -1.2169, -0.0810],\n",
      "        [ 1.3615, -2.0615,  0.6741, -1.3233, -1.3598, -0.8667, -0.5640],\n",
      "        [-2.0565, -0.3567,  0.9571, -0.6619, -0.8285, -0.6057, -0.1354],\n",
      "        [ 0.7471,  0.6118,  1.8678, -0.2616, -0.2501,  0.5011,  0.2600],\n",
      "        [-1.6370,  0.1577,  0.3957, -1.3677, -2.9662, -1.7178, -0.5824],\n",
      "        [-0.6153,  1.5496,  0.5989, -0.6377, -2.2858, -0.3677, -0.3866],\n",
      "        [-1.0370,  0.5920, -0.7557,  0.3917,  0.7470,  1.3798,  1.2877]])\n",
      "\n",
      "Second Random Tensor (1x7):\n",
      "tensor([[ 0.6569,  0.0413, -1.3750,  0.1321,  0.1583, -0.7080,  0.3778]])\n",
      "\n",
      "Result of Matrix Multiplication (7x1):\n",
      "tensor([[-0.6652],\n",
      "        [-0.1072],\n",
      "        [-2.5226],\n",
      "        [-2.3828],\n",
      "        [-1.2671],\n",
      "        [-1.4955],\n",
      "        [ 0.0619]])\n"
     ]
    }
   ],
   "source": [
    "# 5. Create a random tensor with shape (7, 7)\n",
    "random_tensor = torch.randn(7, 7)\n",
    "print(\"\\nRandom Tensor (7x7):\")\n",
    "print(random_tensor)\n",
    "\n",
    "# 6. Perform matrix multiplication\n",
    "# Matrix multiplication requires appropriate shapes. Let's transpose the second tensor.\n",
    "second_tensor = torch.randn(1, 7)\n",
    "print(\"\\nSecond Random Tensor (1x7):\")\n",
    "print(second_tensor)\n",
    "\n",
    "result = torch.matmul(random_tensor, second_tensor.t())  # Transpose the second tensor\n",
    "print(\"\\nResult of Matrix Multiplication (7x1):\")\n",
    "print(result)\n"
   ]
  },
  {
   "cell_type": "code",
   "execution_count": 13,
   "metadata": {},
   "outputs": [
    {
     "name": "stdout",
     "output_type": "stream",
     "text": [
      "\n",
      "Tensor 1 on GPU:\n",
      "tensor([[-0.8340,  1.3860, -0.5730],\n",
      "        [ 3.1271, -0.1201, -0.6222]], device='cuda:0')\n",
      "\n",
      "Tensor 2 on GPU:\n",
      "tensor([[0.5833, 1.3165, 1.0786],\n",
      "        [1.0186, 0.8852, 2.0187]], device='cuda:0')\n"
     ]
    }
   ],
   "source": [
    "# 7. Send two random tensors of shape (2, 3) to the GPU (if available)\n",
    "device = torch.device(\"cuda\" if torch.cuda.is_available() else \"cpu\")\n",
    "tensor1 = torch.randn(2, 3).to(device)\n",
    "tensor2 = torch.randn(2, 3).to(device)\n",
    "print(\"\\nTensor 1 on GPU:\")\n",
    "print(tensor1)\n",
    "\n",
    "print(\"\\nTensor 2 on GPU:\")\n",
    "print(tensor2)\n"
   ]
  },
  {
   "cell_type": "code",
   "execution_count": null,
   "metadata": {},
   "outputs": [],
   "source": [
    "\n",
    "# 8. Perform matrix multiplication on tensors from 6\n",
    "\n",
    "tensor_a = torch.randn(2, 3).to(device)\n",
    "tensor_b = torch.randn(3, 2).to(device)\n",
    "matrix_mul_result = torch.mm(tensor_a, tensor_b)\n",
    "print(\"\\nResult of Matrix Multiplication (2x2) on GPU:\")\n",
    "print(matrix_mul_result)\n"
   ]
  },
  {
   "cell_type": "code",
   "execution_count": 19,
   "metadata": {},
   "outputs": [
    {
     "name": "stdout",
     "output_type": "stream",
     "text": [
      "\n",
      "Maximum Value of the Output:\n",
      "tensor(3.1271, device='cuda:0')\n",
      "\n",
      "Minimum Value of the Output:\n",
      "tensor(-0.8340, device='cuda:0')\n",
      "\n",
      "Maximum Value of the Output:\n",
      "tensor(2.0187, device='cuda:0')\n",
      "\n",
      "Minimum Value of the Output:\n",
      "tensor(0.5833, device='cuda:0')\n",
      "\n",
      "Index of Maximum Value in the Output:\n",
      "tensor(3, device='cuda:0')\n",
      "\n",
      "Index of Minimum Value in the Output:\n",
      "tensor(0, device='cuda:0')\n"
     ]
    }
   ],
   "source": [
    "\n",
    "# 9. Find the maximum and minimum values of the output from 7\n",
    "max_val = tensor1.max()\n",
    "min_val = tensor1.min()\n",
    "print(\"\\nMaximum Value of the Output:\")\n",
    "print(max_val)\n",
    "\n",
    "print(\"\\nMinimum Value of the Output:\")\n",
    "print(min_val)\n",
    "max_val = tensor2.max()\n",
    "min_val = tensor2.min()\n",
    "print(\"\\nMaximum Value of the Output:\")\n",
    "print(max_val)\n",
    "\n",
    "print(\"\\nMinimum Value of the Output:\")\n",
    "print(min_val)\n",
    "# 10. Find the maximum and minimum index values of the output from 7\n",
    "max_idx = tensor1.argmax()\n",
    "min_idx = tensor1.argmin()\n",
    "print(\"\\nIndex of Maximum Value in the Output:\")\n",
    "print(max_idx)\n",
    "\n",
    "print(\"\\nIndex of Minimum Value in the Output:\")\n",
    "print(min_idx)\n"
   ]
  },
  {
   "cell_type": "code",
   "execution_count": 15,
   "metadata": {},
   "outputs": [
    {
     "name": "stdout",
     "output_type": "stream",
     "text": [
      "\n",
      "Tensor with shape (1, 1, 1, 10):\n",
      "tensor([[[[-0.1468,  0.7861,  0.9468, -1.1143,  1.6908, -0.8948, -0.3556,\n",
      "            1.2324,  0.1382, -1.6822]]]])\n",
      "\n",
      "Shape of Tensor:\n",
      "torch.Size([1, 1, 1, 10])\n",
      "\n",
      "Tensor after removing dimensions of size 1:\n",
      "tensor([-0.1468,  0.7861,  0.9468, -1.1143,  1.6908, -0.8948, -0.3556,  1.2324,\n",
      "         0.1382, -1.6822])\n",
      "\n",
      "Shape of Squeezed Tensor:\n",
      "torch.Size([10])\n"
     ]
    }
   ],
   "source": [
    "\n",
    "# 11. Create a random tensor and remove 1-dimension using squeeze()\n",
    "torch.manual_seed(7)\n",
    "tensor_1 = torch.randn(1, 1, 1, 10)\n",
    "print(\"\\nTensor with shape (1, 1, 1, 10):\")\n",
    "print(tensor_1)\n",
    "print(\"\\nShape of Tensor:\")\n",
    "print(tensor_1.shape)\n",
    "\n",
    "tensor_2 = tensor_1.squeeze()\n",
    "print(\"\\nTensor after removing dimensions of size 1:\")\n",
    "print(tensor_2)\n",
    "print(\"\\nShape of Squeezed Tensor:\")\n",
    "print(tensor_2.shape)\n"
   ]
  }
 ],
 "metadata": {
  "kernelspec": {
   "display_name": "DL",
   "language": "python",
   "name": "python3"
  },
  "language_info": {
   "codemirror_mode": {
    "name": "ipython",
    "version": 3
   },
   "file_extension": ".py",
   "mimetype": "text/x-python",
   "name": "python",
   "nbconvert_exporter": "python",
   "pygments_lexer": "ipython3",
   "version": "3.12.3"
  }
 },
 "nbformat": 4,
 "nbformat_minor": 2
}
