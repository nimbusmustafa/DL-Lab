{
 "cells": [
  {
   "cell_type": "markdown",
   "metadata": {},
   "source": [
    "Q1) Dataset contains Monthly and Daily prices of Natural gas, starting from January 1997 to current year. Prices are in nominal dollars. The task is to predict the price of natural gas using RNN model\n",
    "for the dataset\n",
    "https://datahub.io/core/natural-gas#resource-daily \n",
    "https://www.kaggle.com/datasets/joebeachcapital/natural-gas-prices\n",
    "\n",
    "Given the price of last ten 10 days, corresponds to sequence_length, the RNN model must predict\n",
    "the price for the 11th day"
   ]
  },
  {
   "cell_type": "code",
   "execution_count": 1,
   "metadata": {},
   "outputs": [],
   "source": [
    "import numpy as np\n",
    "import pandas as pd\n",
    "import torch\n",
    "import torch.nn as nn\n",
    "import torch.optim as optim\n",
    "from torch.utils.data import DataLoader, Dataset\n",
    "from sklearn.preprocessing import MinMaxScaler\n",
    "import matplotlib.pyplot as plt\n"
   ]
  },
  {
   "cell_type": "code",
   "execution_count": 6,
   "metadata": {},
   "outputs": [
    {
     "name": "stdout",
     "output_type": "stream",
     "text": [
      "         Date  Price\n",
      "0  1997-01-07   3.82\n",
      "1  1997-01-08   3.80\n",
      "2  1997-01-09   3.61\n",
      "3  1997-01-10   3.92\n",
      "4  1997-01-13   4.00\n"
     ]
    }
   ],
   "source": [
    "\n",
    "# Replace with your actual file path\n",
    "file_path = \"/home/mustafa/dllab/w8prac/q1/daily_csv.csv\"\n",
    "\n",
    "# Load the dataset\n",
    "df = pd.read_csv(file_path)\n",
    "\n",
    "# Display the first few rows\n",
    "print(df.head())\n",
    "\n",
    "# Convert date column to datetime format\n",
    "df[\"Date\"] = pd.to_datetime(df[\"Date\"])\n",
    "df.set_index(\"Date\", inplace=True)\n",
    "\n",
    "# Use only price column\n",
    "prices = df[\"Price\"].values.reshape(-1, 1)\n",
    "\n",
    "# Normalize data\n",
    "scaler = MinMaxScaler()\n",
    "prices_scaled = scaler.fit_transform(prices)\n"
   ]
  },
  {
   "cell_type": "code",
   "execution_count": 8,
   "metadata": {},
   "outputs": [],
   "source": [
    "class NaturalGasDataset(Dataset):\n",
    "    def __init__(self, data, seq_length=10):\n",
    "        self.data = data\n",
    "        self.seq_length = seq_length\n",
    "\n",
    "    def __len__(self):\n",
    "        return len(self.data) - self.seq_length\n",
    "\n",
    "    def __getitem__(self, idx):\n",
    "        x = self.data[idx: idx + self.seq_length]\n",
    "        y = self.data[idx + self.seq_length]\n",
    "        return torch.tensor(x, dtype=torch.float32), torch.tensor(y, dtype=torch.float32)\n",
    "\n",
    "# Split data into train (80%) and test (20%)\n",
    "train_size = int(0.8 * len(prices_scaled))\n",
    "train_data, test_data = prices_scaled[:train_size], prices_scaled[train_size:]\n",
    "\n",
    "train_dataset = NaturalGasDataset(train_data)\n",
    "test_dataset = NaturalGasDataset(test_data)\n",
    "\n",
    "train_loader = DataLoader(train_dataset, batch_size=16, shuffle=True)\n",
    "test_loader = DataLoader(test_dataset, batch_size=1, shuffle=False)\n"
   ]
  },
  {
   "cell_type": "code",
   "execution_count": 9,
   "metadata": {},
   "outputs": [],
   "source": [
    "class RNNModel(nn.Module):\n",
    "    def __init__(self, input_size=1, hidden_size=64, num_layers=2):\n",
    "        super(RNNModel, self).__init__()\n",
    "        self.hidden_size = hidden_size\n",
    "        self.num_layers = num_layers\n",
    "\n",
    "        self.rnn = nn.RNN(input_size, hidden_size, num_layers, batch_first=True)\n",
    "        self.fc = nn.Linear(hidden_size, 1)\n",
    "\n",
    "    def forward(self, x):\n",
    "        h0 = torch.zeros(self.num_layers, x.size(0), self.hidden_size).to(x.device)\n",
    "        out, _ = self.rnn(x, h0)\n",
    "        return self.fc(out[:, -1, :])\n",
    "\n",
    "# Instantiate the model\n",
    "device = torch.device(\"cuda\" if torch.cuda.is_available() else \"cpu\")\n",
    "model = RNNModel().to(device)\n"
   ]
  },
  {
   "cell_type": "code",
   "execution_count": 10,
   "metadata": {},
   "outputs": [
    {
     "name": "stderr",
     "output_type": "stream",
     "text": [
      "/home/mustafa/.local/lib/python3.8/site-packages/torch/nn/modules/loss.py:538: UserWarning: Using a target size (torch.Size([16, 1, 1])) that is different to the input size (torch.Size([16, 1])). This will likely lead to incorrect results due to broadcasting. Please ensure they have the same size.\n",
      "  return F.mse_loss(input, target, reduction=self.reduction)\n"
     ]
    },
    {
     "name": "stdout",
     "output_type": "stream",
     "text": [
      "Epoch 1, Loss: 0.01749\n",
      "Epoch 2, Loss: 0.01730\n",
      "Epoch 3, Loss: 0.01719\n",
      "Epoch 4, Loss: 0.01724\n",
      "Epoch 5, Loss: 0.01721\n",
      "Epoch 6, Loss: 0.01719\n",
      "Epoch 7, Loss: 0.01722\n",
      "Epoch 8, Loss: 0.01712\n",
      "Epoch 9, Loss: 0.01718\n",
      "Epoch 10, Loss: 0.01715\n",
      "Epoch 11, Loss: 0.01714\n",
      "Epoch 12, Loss: 0.01711\n",
      "Epoch 13, Loss: 0.01711\n",
      "Epoch 14, Loss: 0.01714\n",
      "Epoch 15, Loss: 0.01713\n",
      "Epoch 16, Loss: 0.01713\n",
      "Epoch 17, Loss: 0.01712\n",
      "Epoch 18, Loss: 0.01710\n",
      "Epoch 19, Loss: 0.01710\n",
      "Epoch 20, Loss: 0.01713\n",
      "Epoch 21, Loss: 0.01714\n",
      "Epoch 22, Loss: 0.01711\n",
      "Epoch 23, Loss: 0.01710\n",
      "Epoch 24, Loss: 0.01715\n",
      "Epoch 25, Loss: 0.01709\n",
      "Epoch 26, Loss: 0.01707\n",
      "Epoch 27, Loss: 0.01709\n",
      "Epoch 28, Loss: 0.01705\n",
      "Epoch 29, Loss: 0.01711\n",
      "Epoch 30, Loss: 0.01708\n",
      "Epoch 31, Loss: 0.01712\n",
      "Epoch 32, Loss: 0.01715\n",
      "Epoch 33, Loss: 0.01713\n",
      "Epoch 34, Loss: 0.01711\n",
      "Epoch 35, Loss: 0.01711\n",
      "Epoch 36, Loss: 0.01710\n",
      "Epoch 37, Loss: 0.01709\n",
      "Epoch 38, Loss: 0.01708\n",
      "Epoch 39, Loss: 0.01710\n",
      "Epoch 40, Loss: 0.01708\n",
      "Epoch 41, Loss: 0.01711\n",
      "Epoch 42, Loss: 0.01708\n",
      "Epoch 43, Loss: 0.01709\n",
      "Epoch 44, Loss: 0.01708\n",
      "Epoch 45, Loss: 0.01708\n",
      "Epoch 46, Loss: 0.01709\n",
      "Epoch 47, Loss: 0.01707\n",
      "Epoch 48, Loss: 0.01708\n",
      "Epoch 49, Loss: 0.01707\n",
      "Epoch 50, Loss: 0.01706\n"
     ]
    }
   ],
   "source": [
    "criterion = nn.MSELoss()\n",
    "optimizer = optim.Adam(model.parameters(), lr=0.001)\n",
    "\n",
    "num_epochs = 10\n",
    "for epoch in range(num_epochs):\n",
    "    model.train()\n",
    "    total_loss = 0\n",
    "\n",
    "    for X_batch, y_batch in train_loader:\n",
    "        X_batch, y_batch = X_batch.to(device), y_batch.to(device)\n",
    "        X_batch = X_batch.view(X_batch.shape[0], X_batch.shape[1], 1)  # Reshape for RNN\n",
    "\n",
    "        optimizer.zero_grad()\n",
    "        outputs = model(X_batch)\n",
    "        loss = criterion(outputs, y_batch.unsqueeze(1))\n",
    "        loss.backward()\n",
    "        optimizer.step()\n",
    "\n",
    "        total_loss += loss.item()\n",
    "    \n",
    "    print(f\"Epoch {epoch+1}, Loss: {total_loss / len(train_loader):.5f}\")\n"
   ]
  },
  {
   "cell_type": "code",
   "execution_count": 11,
   "metadata": {},
   "outputs": [
    {
     "data": {
      "image/png": "[encoded data removed]",
      "text/plain": [
       "<Figure size 1000x500 with 1 Axes>"
      ]
     },
     "metadata": {},
     "output_type": "display_data"
    }
   ],
   "source": [
    "model.eval()\n",
    "predictions, actuals = [], []\n",
    "\n",
    "with torch.no_grad():\n",
    "    for X_batch, y_batch in test_loader:\n",
    "        X_batch = X_batch.to(device).view(1, -1, 1)\n",
    "        y_batch = y_batch.item()\n",
    "\n",
    "        pred = model(X_batch).item()\n",
    "\n",
    "        predictions.append(pred)\n",
    "        actuals.append(y_batch)\n",
    "\n",
    "# Convert predictions back to original scale\n",
    "predictions = scaler.inverse_transform(np.array(predictions).reshape(-1, 1))\n",
    "actuals = scaler.inverse_transform(np.array(actuals).reshape(-1, 1))\n",
    "\n",
    "plt.figure(figsize=(10, 5))\n",
    "plt.plot(actuals, label=\"Actual Prices\")\n",
    "plt.plot(predictions, label=\"Predicted Prices\")\n",
    "plt.legend()\n",
    "plt.show()\n"
   ]
  },
  {
   "cell_type": "code",
   "execution_count": 12,
   "metadata": {},
   "outputs": [
    {
     "name": "stdout",
     "output_type": "stream",
     "text": [
      "Predicted 11th Day Price: $4.54\n"
     ]
    }
   ],
   "source": [
    "import torch\n",
    "import numpy as np\n",
    "\n",
    "# Select last 10 days from the dataset\n",
    "last_10_days = prices_scaled[-10:].reshape(1, 10, 1)  # Reshape to (batch_size, seq_length, input_size)\n",
    "last_10_days_tensor = torch.tensor(last_10_days, dtype=torch.float32).to(device)\n",
    "model.eval()\n",
    "\n",
    "# Predict the 11th day's price\n",
    "with torch.no_grad():\n",
    "    predicted_scaled = model(last_10_days_tensor).cpu().numpy()\n",
    "\n",
    "# Convert back to original price scale\n",
    "predicted_price = scaler.inverse_transform(predicted_scaled.reshape(-1, 1))\n",
    "\n",
    "print(f\"Predicted 11th Day Price: ${predicted_price[0][0]:.2f}\")\n"
   ]
  },
  {
   "cell_type": "markdown",
   "metadata": {},
   "source": [
    "Q2) The data provided at the link https://download.pytorch.org/tutorial/data.zip consists of\n",
    "names stored in the format {language: [names ...]} i.e. each language contains a list of\n",
    "names. Train a RNN on a few thousand surnames from 18 languages of origin, and\n",
    "predict which language a name is from based on the spelling."
   ]
  },
  {
   "cell_type": "code",
   "execution_count": 13,
   "metadata": {},
   "outputs": [
    {
     "name": "stdout",
     "output_type": "stream",
     "text": [
      "Loaded 18 languages and 20074 names.\n"
     ]
    }
   ],
   "source": [
    "import glob\n",
    "import os\n",
    "import unicodedata\n",
    "import string\n",
    "\n",
    "# Characters allowed (A-Z + lowercase + punctuation)\n",
    "ALL_LETTERS = string.ascii_letters + \" .,;'\"\n",
    "N_LETTERS = len(ALL_LETTERS)\n",
    "\n",
    "# Function to read names from files\n",
    "def read_names(filename):\n",
    "    with open(filename, encoding='utf-8') as f:\n",
    "        return [line.strip() for line in f.readlines()]\n",
    "\n",
    "# Load names for each language\n",
    "language_names = {}\n",
    "for filepath in glob.glob(\"data/names/*.txt\"):\n",
    "    language = os.path.splitext(os.path.basename(filepath))[0]\n",
    "    language_names[language] = read_names(filepath)\n",
    "\n",
    "# List of all languages\n",
    "languages = list(language_names.keys())\n",
    "N_LANGUAGES = len(languages)\n",
    "\n",
    "print(f\"Loaded {len(languages)} languages and {sum(len(v) for v in language_names.values())} names.\")\n"
   ]
  },
  {
   "cell_type": "code",
   "execution_count": 14,
   "metadata": {},
   "outputs": [],
   "source": [
    "import torch\n",
    "\n",
    "# Convert a character to a tensor representation\n",
    "def letter_to_index(letter):\n",
    "    return ALL_LETTERS.find(letter)\n",
    "\n",
    "def letter_to_tensor(letter):\n",
    "    tensor = torch.zeros(1, N_LETTERS)\n",
    "    tensor[0][letter_to_index(letter)] = 1\n",
    "    return tensor\n",
    "\n",
    "# Convert a name to a tensor (sequence of one-hot encoded letters)\n",
    "def name_to_tensor(name):\n",
    "    tensor = torch.zeros(len(name), 1, N_LETTERS)\n",
    "    for i, letter in enumerate(name):\n",
    "        tensor[i][0][letter_to_index(letter)] = 1\n",
    "    return tensor\n"
   ]
  },
  {
   "cell_type": "code",
   "execution_count": 15,
   "metadata": {},
   "outputs": [],
   "source": [
    "import torch.nn as nn\n",
    "\n",
    "class RNN(nn.Module):\n",
    "    def __init__(self, input_size, hidden_size, output_size):\n",
    "        super(RNN, self).__init__()\n",
    "        self.hidden_size = hidden_size\n",
    "\n",
    "        self.i2h = nn.Linear(input_size + hidden_size, hidden_size)\n",
    "        self.i2o = nn.Linear(input_size + hidden_size, output_size)\n",
    "        self.softmax = nn.LogSoftmax(dim=1)\n",
    "\n",
    "    def forward(self, input_tensor, hidden):\n",
    "        combined = torch.cat((input_tensor, hidden), 1)\n",
    "        hidden = self.i2h(combined)\n",
    "        output = self.i2o(combined)\n",
    "        return self.softmax(output), hidden\n",
    "\n",
    "    def init_hidden(self):\n",
    "        return torch.zeros(1, self.hidden_size)\n"
   ]
  },
  {
   "cell_type": "code",
   "execution_count": 16,
   "metadata": {},
   "outputs": [
    {
     "name": "stdout",
     "output_type": "stream",
     "text": [
      "('Paterson', 'Scottish', tensor([[[0., 0., 0., 0., 0., 0., 0., 0., 0., 0., 0., 0., 0., 0., 0., 0., 0.,\n",
      "          0., 0., 0., 0., 0., 0., 0., 0., 0., 0., 0., 0., 0., 0., 0., 0., 0.,\n",
      "          0., 0., 0., 0., 0., 0., 0., 1., 0., 0., 0., 0., 0., 0., 0., 0., 0.,\n",
      "          0., 0., 0., 0., 0., 0.]],\n",
      "\n",
      "        [[1., 0., 0., 0., 0., 0., 0., 0., 0., 0., 0., 0., 0., 0., 0., 0., 0.,\n",
      "          0., 0., 0., 0., 0., 0., 0., 0., 0., 0., 0., 0., 0., 0., 0., 0., 0.,\n",
      "          0., 0., 0., 0., 0., 0., 0., 0., 0., 0., 0., 0., 0., 0., 0., 0., 0.,\n",
      "          0., 0., 0., 0., 0., 0.]],\n",
      "\n",
      "        [[0., 0., 0., 0., 0., 0., 0., 0., 0., 0., 0., 0., 0., 0., 0., 0., 0.,\n",
      "          0., 0., 1., 0., 0., 0., 0., 0., 0., 0., 0., 0., 0., 0., 0., 0., 0.,\n",
      "          0., 0., 0., 0., 0., 0., 0., 0., 0., 0., 0., 0., 0., 0., 0., 0., 0.,\n",
      "          0., 0., 0., 0., 0., 0.]],\n",
      "\n",
      "        [[0., 0., 0., 0., 1., 0., 0., 0., 0., 0., 0., 0., 0., 0., 0., 0., 0.,\n",
      "          0., 0., 0., 0., 0., 0., 0., 0., 0., 0., 0., 0., 0., 0., 0., 0., 0.,\n",
      "          0., 0., 0., 0., 0., 0., 0., 0., 0., 0., 0., 0., 0., 0., 0., 0., 0.,\n",
      "          0., 0., 0., 0., 0., 0.]],\n",
      "\n",
      "        [[0., 0., 0., 0., 0., 0., 0., 0., 0., 0., 0., 0., 0., 0., 0., 0., 0.,\n",
      "          1., 0., 0., 0., 0., 0., 0., 0., 0., 0., 0., 0., 0., 0., 0., 0., 0.,\n",
      "          0., 0., 0., 0., 0., 0., 0., 0., 0., 0., 0., 0., 0., 0., 0., 0., 0.,\n",
      "          0., 0., 0., 0., 0., 0.]],\n",
      "\n",
      "        [[0., 0., 0., 0., 0., 0., 0., 0., 0., 0., 0., 0., 0., 0., 0., 0., 0.,\n",
      "          0., 1., 0., 0., 0., 0., 0., 0., 0., 0., 0., 0., 0., 0., 0., 0., 0.,\n",
      "          0., 0., 0., 0., 0., 0., 0., 0., 0., 0., 0., 0., 0., 0., 0., 0., 0.,\n",
      "          0., 0., 0., 0., 0., 0.]],\n",
      "\n",
      "        [[0., 0., 0., 0., 0., 0., 0., 0., 0., 0., 0., 0., 0., 0., 1., 0., 0.,\n",
      "          0., 0., 0., 0., 0., 0., 0., 0., 0., 0., 0., 0., 0., 0., 0., 0., 0.,\n",
      "          0., 0., 0., 0., 0., 0., 0., 0., 0., 0., 0., 0., 0., 0., 0., 0., 0.,\n",
      "          0., 0., 0., 0., 0., 0.]],\n",
      "\n",
      "        [[0., 0., 0., 0., 0., 0., 0., 0., 0., 0., 0., 0., 0., 1., 0., 0., 0.,\n",
      "          0., 0., 0., 0., 0., 0., 0., 0., 0., 0., 0., 0., 0., 0., 0., 0., 0.,\n",
      "          0., 0., 0., 0., 0., 0., 0., 0., 0., 0., 0., 0., 0., 0., 0., 0., 0.,\n",
      "          0., 0., 0., 0., 0., 0.]]]), tensor([13]))\n"
     ]
    }
   ],
   "source": [
    "import random\n",
    "\n",
    "# Convert a language to a one-hot encoded tensor\n",
    "def language_to_tensor(language):\n",
    "    tensor = torch.zeros(1, N_LANGUAGES)\n",
    "    tensor[0][languages.index(language)] = 1\n",
    "    return tensor\n",
    "\n",
    "# Get a random training example\n",
    "def random_training_example():\n",
    "    language = random.choice(languages)\n",
    "    name = random.choice(language_names[language])\n",
    "    name_tensor = name_to_tensor(name)\n",
    "    language_tensor = torch.tensor([languages.index(language)], dtype=torch.long)\n",
    "    return name, language, name_tensor, language_tensor\n",
    "\n",
    "print(random_training_example())\n"
   ]
  },
  {
   "cell_type": "code",
   "execution_count": 17,
   "metadata": {},
   "outputs": [
    {
     "name": "stdout",
     "output_type": "stream",
     "text": [
      "Iteration 0 | Loss: 2.7845\n",
      "Iteration 5000 | Loss: 2.6390\n",
      "Iteration 10000 | Loss: 1.9523\n",
      "Iteration 15000 | Loss: 2.7177\n",
      "Iteration 20000 | Loss: 1.4110\n",
      "Iteration 25000 | Loss: 2.0555\n",
      "Iteration 30000 | Loss: 0.3315\n",
      "Iteration 35000 | Loss: 3.2625\n",
      "Iteration 40000 | Loss: 0.5763\n",
      "Iteration 45000 | Loss: 1.4183\n",
      "Iteration 50000 | Loss: 1.1195\n",
      "Iteration 55000 | Loss: 0.9053\n",
      "Iteration 60000 | Loss: 2.1858\n",
      "Iteration 65000 | Loss: 1.0731\n",
      "Iteration 70000 | Loss: 2.8974\n",
      "Iteration 75000 | Loss: 0.7620\n",
      "Iteration 80000 | Loss: 1.7426\n",
      "Iteration 85000 | Loss: 2.0665\n",
      "Iteration 90000 | Loss: 1.2791\n",
      "Iteration 95000 | Loss: 2.9343\n"
     ]
    }
   ],
   "source": [
    "import torch.optim as optim\n",
    "\n",
    "HIDDEN_SIZE = 128\n",
    "model = RNN(N_LETTERS, HIDDEN_SIZE, N_LANGUAGES)\n",
    "criterion = nn.NLLLoss()\n",
    "optimizer = optim.SGD(model.parameters(), lr=0.005)\n",
    "\n",
    "def train(name_tensor, language_tensor):\n",
    "    hidden = model.init_hidden()\n",
    "    model.zero_grad()\n",
    "\n",
    "    for i in range(name_tensor.size()[0]):\n",
    "        output, hidden = model(name_tensor[i], hidden)\n",
    "\n",
    "    loss = criterion(output, language_tensor)\n",
    "    loss.backward()\n",
    "    optimizer.step()\n",
    "\n",
    "    return output, loss.item()\n",
    "\n",
    "# Train for 100,000 iterations\n",
    "for iter in range(100000):\n",
    "    name, language, name_tensor, language_tensor = random_training_example()\n",
    "    output, loss = train(name_tensor, language_tensor)\n",
    "\n",
    "    if iter % 5000 == 0:\n",
    "        print(f\"Iteration {iter} | Loss: {loss:.4f}\")\n"
   ]
  },
  {
   "cell_type": "code",
   "execution_count": 18,
   "metadata": {},
   "outputs": [
    {
     "name": "stdout",
     "output_type": "stream",
     "text": [
      "French\n",
      "Japanese\n",
      "German\n",
      "Arabic\n"
     ]
    }
   ],
   "source": [
    "def predict(name):\n",
    "    model.eval()\n",
    "    hidden = model.init_hidden()\n",
    "    name_tensor = name_to_tensor(name)\n",
    "\n",
    "    for i in range(name_tensor.size()[0]):\n",
    "        output, hidden = model(name_tensor[i], hidden)\n",
    "\n",
    "    _, predicted_index = output.topk(1)\n",
    "    predicted_language = languages[predicted_index[0].item()]\n",
    "    return predicted_language\n",
    "\n",
    "# Example Predictions\n",
    "print(predict(\"Schmidt\"))   # German\n",
    "print(predict(\"Yamamoto\"))  # Japanese\n",
    "print(predict(\"Kumar\"))     # Indian\n",
    "print(predict(\"Garcia\"))    # Spanish\n"
   ]
  },
  {
   "cell_type": "markdown",
   "metadata": {},
   "source": [
    "3. Implement a next character predictor using RNN Model"
   ]
  },
  {
   "cell_type": "code",
   "execution_count": 19,
   "metadata": {},
   "outputs": [
    {
     "name": "stdout",
     "output_type": "stream",
     "text": [
      "Epoch [50/500], Loss: 0.0001\n",
      "Epoch [100/500], Loss: 0.0001\n",
      "Epoch [150/500], Loss: 0.0000\n",
      "Epoch [200/500], Loss: 0.0000\n",
      "Epoch [250/500], Loss: 0.0000\n",
      "Epoch [300/500], Loss: 0.0000\n",
      "Epoch [350/500], Loss: 0.0000\n",
      "Epoch [400/500], Loss: 0.0000\n",
      "Epoch [450/500], Loss: 0.0000\n",
      "Epoch [500/500], Loss: 0.0000\n",
      "Next character after \"wor\": l\n"
     ]
    }
   ],
   "source": [
    "import torch\n",
    "import torch.nn as nn\n",
    "import torch.optim as optim\n",
    "\n",
    "# Sample text dataset\n",
    "text = \"hello world\"\n",
    "\n",
    "# Unique characters and their indices\n",
    "chars = list(set(text))\n",
    "char_to_idx = {ch: i for i, ch in enumerate(chars)}\n",
    "idx_to_char = {i: ch for ch, i in char_to_idx.items()}\n",
    "\n",
    "# Convert text to indices\n",
    "text_indices = [char_to_idx[ch] for ch in text]\n",
    "\n",
    "# Hyperparameters\n",
    "sequence_length = 3  # Use last 3 characters to predict the next one\n",
    "hidden_size = 128\n",
    "num_epochs = 500\n",
    "lr = 0.01\n",
    "\n",
    "# Prepare Training Data\n",
    "X_train = []\n",
    "Y_train = []\n",
    "\n",
    "for i in range(len(text_indices) - sequence_length):\n",
    "    X_train.append(text_indices[i:i+sequence_length])\n",
    "    Y_train.append(text_indices[i+sequence_length])\n",
    "\n",
    "X_train = torch.tensor(X_train, dtype=torch.float32)\n",
    "Y_train = torch.tensor(Y_train, dtype=torch.long)\n",
    "\n",
    "# Define the RNN Model\n",
    "class CharRNN(nn.Module):\n",
    "    def __init__(self, vocab_size, hidden_size):\n",
    "        super(CharRNN, self).__init__()\n",
    "        self.hidden_size = hidden_size\n",
    "        self.embed = nn.Embedding(vocab_size, hidden_size)\n",
    "        self.rnn = nn.RNN(hidden_size, hidden_size, batch_first=True)\n",
    "        self.fc = nn.Linear(hidden_size, vocab_size)\n",
    "\n",
    "    def forward(self, x, hidden):\n",
    "        x = self.embed(x.long())\n",
    "        out, hidden = self.rnn(x, hidden)\n",
    "        out = self.fc(out[:, -1, :])  # Predict next character\n",
    "        return out, hidden\n",
    "\n",
    "# Train the Model\n",
    "model = CharRNN(len(chars), hidden_size)\n",
    "criterion = nn.CrossEntropyLoss()\n",
    "optimizer = optim.Adam(model.parameters(), lr=lr)\n",
    "\n",
    "for epoch in range(num_epochs):\n",
    "    hidden = torch.zeros(1, X_train.shape[0], hidden_size)\n",
    "    outputs, _ = model(X_train, hidden)\n",
    "    \n",
    "    loss = criterion(outputs, Y_train)\n",
    "    optimizer.zero_grad()\n",
    "    loss.backward()\n",
    "    optimizer.step()\n",
    "    \n",
    "    if (epoch + 1) % 50 == 0:\n",
    "        print(f'Epoch [{epoch+1}/{num_epochs}], Loss: {loss.item():.4f}')\n",
    "\n",
    "# Function to Predict Next Character\n",
    "def predict_next(model, input_text):\n",
    "    model.eval()\n",
    "    input_indices = [char_to_idx[ch] for ch in input_text]\n",
    "    input_tensor = torch.tensor([input_indices], dtype=torch.float32)\n",
    "    hidden = torch.zeros(1, 1, hidden_size)\n",
    "\n",
    "    with torch.no_grad():\n",
    "        output, _ = model(input_tensor, hidden)\n",
    "        predicted_idx = torch.argmax(output, dim=1).item()\n",
    "    \n",
    "    return idx_to_char[predicted_idx]\n",
    "\n",
    "# Test Prediction\n",
    "input_text = \"wor\"\n",
    "predicted_char = predict_next(model, input_text)\n",
    "print(f'Next character after \"{input_text}\": {predicted_char}')\n"
   ]
  }
 ],
 "metadata": {
  "kernelspec": {
   "display_name": "Python 3",
   "language": "python",
   "name": "python3"
  },
  "language_info": {
   "codemirror_mode": {
    "name": "ipython",
    "version": 3
   },
   "file_extension": ".py",
   "mimetype": "text/x-python",
   "name": "python",
   "nbconvert_exporter": "python",
   "pygments_lexer": "ipython3",
   "version": "3.8.10"
  }
 },
 "nbformat": 4,
 "nbformat_minor": 2
}
