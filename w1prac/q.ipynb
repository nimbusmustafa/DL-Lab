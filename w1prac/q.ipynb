{
 "cells": [
  {
   "cell_type": "code",
   "execution_count": 1,
   "metadata": {},
   "outputs": [
    {
     "name": "stdout",
     "output_type": "stream",
     "text": [
      "PyTorch version: 2.4.1+cu121\n",
      "CUDA Available: True\n",
      "CUDA Version: 12.1\n",
      "GPU Name: Quadro P620\n"
     ]
    }
   ],
   "source": [
    "import torch\n",
    "print(\"PyTorch version:\", torch.__version__)\n",
    "print(\"CUDA Available:\", torch.cuda.is_available())\n",
    "print(\"CUDA Version:\", torch.version.cuda)\n",
    "print(\"GPU Name:\", torch.cuda.get_device_name(0) if torch.cuda.is_available() else \"No GPU\")\n"
   ]
  },
  {
   "cell_type": "code",
   "execution_count": 2,
   "metadata": {},
   "outputs": [
    {
     "name": "stdout",
     "output_type": "stream",
     "text": [
      "Original Tensor:\n",
      "tensor([[1, 2, 3],\n",
      "        [4, 5, 6]])\n",
      "\n",
      "Reshaped Tensor (3, 2):\n",
      "tensor([[1, 2],\n",
      "        [3, 4],\n",
      "        [5, 6]])\n",
      "\n",
      "Viewed Tensor (3, 2):\n",
      "tensor([[1, 2],\n",
      "        [3, 4],\n",
      "        [5, 6]])\n",
      "\n",
      "Stacked Tensor (along dim=0):\n",
      "tensor([[1, 2, 3],\n",
      "        [4, 5, 6]])\n",
      "\n",
      "Squeezed Tensor:\n",
      "tensor([1, 2, 3])\n",
      "\n",
      "Unsqueezed Tensor (added dimension at position 1):\n",
      "tensor([[[1, 2, 3]],\n",
      "\n",
      "        [[4, 5, 6]]])\n"
     ]
    }
   ],
   "source": [
    "import numpy as np\n",
    "# 1. Reshaping, viewing, stacking, squeezing, and unsqueezing tensors\n",
    "x = torch.tensor([[1, 2, 3], [4, 5, 6]])\n",
    "print(\"Original Tensor:\")\n",
    "print(x)\n",
    "\n",
    "# Reshaping\n",
    "reshaped_x = x.reshape(3, 2)\n",
    "print(\"\\nReshaped Tensor (3, 2):\")\n",
    "print(reshaped_x)\n",
    "\n",
    "# Viewing\n",
    "viewed_x = x.view(3, 2)\n",
    "print(\"\\nViewed Tensor (3, 2):\")\n",
    "print(viewed_x)\n",
    "\n",
    "# Stacking\n",
    "a = torch.tensor([1, 2, 3])\n",
    "b = torch.tensor([4, 5, 6])\n",
    "stacked_tensor = torch.stack((a, b), dim=0)\n",
    "print(\"\\nStacked Tensor (along dim=0):\")\n",
    "print(stacked_tensor)\n",
    "\n",
    "# Squeezing\n",
    "x_with_ones = torch.tensor([[[1, 2, 3]]])  # shape (1, 1, 3)\n",
    "squeezed_x = x_with_ones.squeeze()\n",
    "print(\"\\nSqueezed Tensor:\")\n",
    "print(squeezed_x)\n",
    "\n",
    "# Unsqueezing\n",
    "unsqueezed_x = x.unsqueeze(1)  # shape (1, 2, 3)\n",
    "print(\"\\nUnsqueezed Tensor (added dimension at position 1):\")\n",
    "print(unsqueezed_x)"
   ]
  },
  {
   "cell_type": "code",
   "execution_count": 3,
   "metadata": {},
   "outputs": [
    {
     "name": "stdout",
     "output_type": "stream",
     "text": [
      "\n",
      "Permuted Tensor:\n",
      "tensor([[1, 4],\n",
      "        [2, 5],\n",
      "        [3, 6]])\n"
     ]
    }
   ],
   "source": [
    "# 2. Using torch.permute()\n",
    "# Permuting a tensor changes the order of its dimensions\n",
    "perm_x = x.permute(1, 0)  # Swap the rows and columns\n",
    "print(\"\\nPermuted Tensor:\")\n",
    "print(perm_x)"
   ]
  },
  {
   "cell_type": "code",
   "execution_count": 4,
   "metadata": {},
   "outputs": [
    {
     "name": "stdout",
     "output_type": "stream",
     "text": [
      "\n",
      "Element at (1,2):\n",
      "tensor(6)\n",
      "\n",
      "Sliced Tensor (all rows, starting from second column):\n",
      "tensor([[2, 3],\n",
      "        [5, 6]])\n"
     ]
    }
   ],
   "source": [
    "# 3. Indexing in tensors\n",
    "# Accessing a specific element\n",
    "print(\"\\nElement at (1,2):\")\n",
    "print(x[1, 2])\n",
    "\n",
    "# Slicing the tensor\n",
    "sliced_x = x[:, 1:]  # All rows, starting from the second column\n",
    "print(\"\\nSliced Tensor (all rows, starting from second column):\")\n",
    "print(sliced_x)"
   ]
  },
  {
   "cell_type": "code",
   "execution_count": 5,
   "metadata": {},
   "outputs": [
    {
     "name": "stdout",
     "output_type": "stream",
     "text": [
      "\n",
      "Numpy array converted to tensor:\n",
      "tensor([[1, 2, 3],\n",
      "        [4, 5, 6]])\n",
      "\n",
      "Tensor converted back to numpy array:\n",
      "[[1 2 3]\n",
      " [4 5 6]]\n"
     ]
    }
   ],
   "source": [
    "# 4. Converting numpy arrays to tensors and vice versa\n",
    "np_array = np.array([[1, 2, 3], [4, 5, 6]])\n",
    "tensor_from_np = torch.tensor(np_array)\n",
    "print(\"\\nNumpy array converted to tensor:\")\n",
    "print(tensor_from_np)\n",
    "\n",
    "tensor_back_to_np = tensor_from_np.numpy()\n",
    "print(\"\\nTensor converted back to numpy array:\")\n",
    "print(tensor_back_to_np)"
   ]
  },
  {
   "cell_type": "code",
   "execution_count": 8,
   "metadata": {},
   "outputs": [
    {
     "name": "stdout",
     "output_type": "stream",
     "text": [
      "\n",
      "Random Tensor (7x7):\n",
      "tensor([[ 1.5804, -0.1361,  0.1544,  0.2750, -0.1897, -0.1168, -1.5155],\n",
      "        [ 0.1911, -1.0023, -0.2451, -0.0372,  0.7787,  0.2958, -1.8349],\n",
      "        [-0.8442,  0.0635, -2.3183,  0.8133,  0.3009, -1.9914,  0.7120],\n",
      "        [ 2.0411,  0.1017, -0.2368, -0.2849,  1.9446, -2.1282,  0.4910],\n",
      "        [-2.4963, -0.3523, -1.5606,  0.7658, -1.4392, -0.3615, -1.0875],\n",
      "        [-0.3725,  0.5063, -2.4089,  0.3564,  0.7772,  0.5113,  1.2297],\n",
      "        [-0.1738, -1.1299,  0.3147, -1.1702, -1.3149,  0.7810,  0.6312]])\n",
      "\n",
      "Second Random Tensor (1x7):\n",
      "tensor([[-0.4881, -0.2899, -0.6331,  0.8228,  0.7665, -1.4387,  0.3072]])\n",
      "\n",
      "Result of Matrix Multiplication (7x1):\n",
      "tensor([[-1.0462],\n",
      "        [-0.0704],\n",
      "        [ 5.8449],\n",
      "        [ 3.5930],\n",
      "        [ 2.0215],\n",
      "        [ 2.0912],\n",
      "        [-2.6873]])\n"
     ]
    }
   ],
   "source": [
    "# 5. Create a random tensor with shape (7, 7)\n",
    "random_tensor = torch.randn(7, 7)\n",
    "print(\"\\nRandom Tensor (7x7):\")\n",
    "print(random_tensor)\n",
    "\n",
    "# 6. Perform matrix multiplication\n",
    "# Matrix multiplication requires appropriate shapes. Let's transpose the second tensor.\n",
    "second_tensor = torch.randn(1, 7)\n",
    "print(\"\\nSecond Random Tensor (1x7):\")\n",
    "print(second_tensor)\n",
    "\n",
    "result = torch.matmul(random_tensor, second_tensor.t())  # Transpose the second tensor\n",
    "print(\"\\nResult of Matrix Multiplication (7x1):\")\n",
    "print(result)"
   ]
  },
  {
   "cell_type": "code",
   "execution_count": 7,
   "metadata": {},
   "outputs": [
    {
     "name": "stdout",
     "output_type": "stream",
     "text": [
      "\n",
      "Tensor 1 on GPU:\n",
      "tensor([[-1.0093, -0.1264,  0.4504],\n",
      "        [-1.2588, -0.1148, -0.2644]], device='cuda:0')\n",
      "\n",
      "Tensor 2 on GPU:\n",
      "tensor([[-0.5243, -1.6670,  0.7001],\n",
      "        [-0.1973, -0.8577,  0.1584]], device='cuda:0')\n"
     ]
    }
   ],
   "source": [
    "# 7. Send two random tensors of shape (2, 3) to the GPU (if available)\n",
    "device = torch.device(\"cuda\" if torch.cuda.is_available() else \"cpu\")\n",
    "tensor1 = torch.randn(2, 3).to(device)\n",
    "tensor2 = torch.randn(2, 3).to(device)\n",
    "print(\"\\nTensor 1 on GPU:\")\n",
    "print(tensor1)\n",
    "\n",
    "print(\"\\nTensor 2 on GPU:\")\n",
    "print(tensor2)"
   ]
  },
  {
   "cell_type": "code",
   "execution_count": 9,
   "metadata": {},
   "outputs": [
    {
     "name": "stdout",
     "output_type": "stream",
     "text": [
      "\n",
      "Maximum Value of the Output:\n",
      "tensor(0.4504, device='cuda:0')\n",
      "\n",
      "Minimum Value of the Output:\n",
      "tensor(-1.2588, device='cuda:0')\n",
      "\n",
      "Maximum Value of the Output:\n",
      "tensor(0.7001, device='cuda:0')\n",
      "\n",
      "Minimum Value of the Output:\n",
      "tensor(-1.6670, device='cuda:0')\n",
      "\n",
      "Index of Maximum Value in the Output:\n",
      "tensor(2, device='cuda:0')\n",
      "\n",
      "Index of Minimum Value in the Output:\n",
      "tensor(3, device='cuda:0')\n"
     ]
    }
   ],
   "source": [
    "max_val = tensor1.max()\n",
    "min_val = tensor1.min()\n",
    "print(\"\\nMaximum Value of the Output:\")\n",
    "print(max_val)\n",
    "\n",
    "print(\"\\nMinimum Value of the Output:\")\n",
    "print(min_val)\n",
    "max_val = tensor2.max()\n",
    "min_val = tensor2.min()\n",
    "print(\"\\nMaximum Value of the Output:\")\n",
    "print(max_val)\n",
    "\n",
    "print(\"\\nMinimum Value of the Output:\")\n",
    "print(min_val)\n",
    "# 10. Find the maximum and minimum index values of the output from 7\n",
    "max_idx = tensor1.argmax()\n",
    "min_idx = tensor1.argmin()\n",
    "print(\"\\nIndex of Maximum Value in the Output:\")\n",
    "print(max_idx)\n",
    "\n",
    "print(\"\\nIndex of Minimum Value in the Output:\")\n",
    "print(min_idx)"
   ]
  },
  {
   "cell_type": "code",
   "execution_count": 11,
   "metadata": {},
   "outputs": [
    {
     "name": "stdout",
     "output_type": "stream",
     "text": [
      "\n",
      "Tensor with shape (1, 1, 1, 10):\n",
      "tensor([[[[-0.1468,  0.7861,  0.9468, -1.1143,  1.6908, -0.8948, -0.3556,\n",
      "            1.2324,  0.1382, -1.6822]]]])\n",
      "\n",
      "Shape of Tensor:\n",
      "torch.Size([1, 1, 1, 10])\n",
      "\n",
      "Tensor after removing dimensions of size 1:\n",
      "tensor([-0.1468,  0.7861,  0.9468, -1.1143,  1.6908, -0.8948, -0.3556,  1.2324,\n",
      "         0.1382, -1.6822])\n",
      "\n",
      "Shape of Squeezed Tensor:\n",
      "torch.Size([10])\n"
     ]
    }
   ],
   "source": [
    "torch.manual_seed(7)\n",
    "tensor_1 = torch.randn(1, 1, 1, 10)\n",
    "print(\"\\nTensor with shape (1, 1, 1, 10):\")\n",
    "print(tensor_1)\n",
    "print(\"\\nShape of Tensor:\")\n",
    "print(tensor_1.shape)\n",
    "\n",
    "tensor_2 = tensor_1.squeeze()\n",
    "print(\"\\nTensor after removing dimensions of size 1:\")\n",
    "print(tensor_2)\n",
    "print(\"\\nShape of Squeezed Tensor:\")\n",
    "print(tensor_2.shape)"
   ]
  }
 ],
 "metadata": {
  "kernelspec": {
   "display_name": "Python 3",
   "language": "python",
   "name": "python3"
  },
  "language_info": {
   "codemirror_mode": {
    "name": "ipython",
    "version": 3
   },
   "file_extension": ".py",
   "mimetype": "text/x-python",
   "name": "python",
   "nbconvert_exporter": "python",
   "pygments_lexer": "ipython3",
   "version": "3.8.10"
  }
 },
 "nbformat": 4,
 "nbformat_minor": 2
}
