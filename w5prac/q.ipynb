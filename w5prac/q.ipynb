{
 "cells": [
  {
   "cell_type": "markdown",
   "metadata": {},
   "source": [
    "1. Implement convolution operation for a sample image of shape (H=6, W=6, C=1) with a\n",
    "random kernel of size (3,3) using torch.nn.functional.conv2d."
   ]
  },
  {
   "cell_type": "code",
   "execution_count": 1,
   "metadata": {},
   "outputs": [
    {
     "name": "stdout",
     "output_type": "stream",
     "text": [
      "Input Image:\n",
      " tensor([[ 1.9269,  1.4873,  0.9007, -2.1055,  0.6784, -1.2345],\n",
      "        [-0.0431, -1.6047, -0.7521,  1.6487, -0.3925, -1.4036],\n",
      "        [-0.7279, -0.5594, -0.7688,  0.7624,  1.6423, -0.1596],\n",
      "        [-0.4974,  0.4396,  0.3189, -0.4245,  0.3057, -0.7746],\n",
      "        [ 0.0349,  0.3211,  1.5736, -0.8455, -1.2742,  2.1228],\n",
      "        [-1.2347, -0.4879, -1.4181,  0.8963,  0.0499,  2.2667]])\n",
      "\n",
      "Kernel:\n",
      " tensor([[ 0.5227, -0.2384, -0.0499],\n",
      "        [ 0.5263, -0.0085,  0.7291],\n",
      "        [ 0.1331,  0.8640, -1.0157]])\n",
      "\n",
      "Output Feature Map:\n",
      " tensor([[ 0.2510, -0.4815, -0.8689,  0.3297],\n",
      "        [-0.5517,  0.2914, -0.6152,  2.2907],\n",
      "        [-1.5580,  2.0330,  0.5019, -4.1452],\n",
      "        [ 1.6366, -2.4863,  0.6940, -1.2825]])\n"
     ]
    }
   ],
   "source": [
    "import torch\n",
    "import torch.nn.functional as F\n",
    "\n",
    "torch.manual_seed(42)\n",
    "image = torch.randn(1, 1, 6, 6)  # (Batch, Channel, Height, Width)\n",
    "\n",
    "kernel = torch.randn(1, 1, 3, 3)  # (Out Channels, In Channels, Kernel Height, Kernel Width)\n",
    "\n",
    "output = F.conv2d(image, kernel, stride=1, padding=0)  # Output shape: (1, 1, 4, 4)\n",
    "\n",
    "print(\"Input Image:\\n\", image.squeeze())  # Remove batch & channel dimension\n",
    "print(\"\\nKernel:\\n\", kernel.squeeze())  # Remove batch & channel dimension\n",
    "print(\"\\nOutput Feature Map:\\n\", output.squeeze())  # Remove batch & channel dimension\n"
   ]
  },
  {
   "cell_type": "markdown",
   "metadata": {},
   "source": [
    "2. Apply torch.nn.Conv2d to the input image of Qn 1 with out-channel=3 and observe the\n",
    "output. Implement the equivalent of torch.nn.Conv2d using the torch.nn.functional.conv2D\n",
    "to get the same output. You may ignore bias."
   ]
  },
  {
   "cell_type": "code",
   "execution_count": 9,
   "metadata": {},
   "outputs": [
    {
     "name": "stdout",
     "output_type": "stream",
     "text": [
      "Output from nn.Conv2d:\n",
      " tensor([[[-0.2437, -0.5943, -1.0155,  0.6063],\n",
      "         [-0.8823,  0.2304,  0.7604, -0.5837],\n",
      "         [-0.0988, -0.2039,  1.1443,  0.3428],\n",
      "         [ 0.0713,  0.3766, -0.6139,  0.1240]],\n",
      "\n",
      "        [[-0.0820,  0.4518, -1.1252,  0.0527],\n",
      "         [-0.3694,  0.2397,  0.6688, -0.1575],\n",
      "         [-0.1804, -0.3421,  0.3218, -0.2668],\n",
      "         [ 1.1609, -0.1286, -0.1920,  0.1683]],\n",
      "\n",
      "        [[ 1.7663,  0.2434,  0.4893, -0.8779],\n",
      "         [ 0.3622,  0.0672, -0.7294, -0.6666],\n",
      "         [-0.3953, -0.0847, -0.2652,  0.8485],\n",
      "         [-0.4824, -0.3321,  0.7704, -0.1652]]], grad_fn=<SqueezeBackward0>)\n",
      "Output from nn.Conv2d:\n",
      " tensor([[[-0.2437, -0.5943, -1.0155,  0.6063],\n",
      "         [-0.8823,  0.2304,  0.7604, -0.5837],\n",
      "         [-0.0988, -0.2039,  1.1443,  0.3428],\n",
      "         [ 0.0713,  0.3766, -0.6139,  0.1240]],\n",
      "\n",
      "        [[-0.0820,  0.4518, -1.1252,  0.0527],\n",
      "         [-0.3694,  0.2397,  0.6688, -0.1575],\n",
      "         [-0.1804, -0.3421,  0.3218, -0.2668],\n",
      "         [ 1.1609, -0.1286, -0.1920,  0.1683]],\n",
      "\n",
      "        [[ 1.7663,  0.2434,  0.4893, -0.8779],\n",
      "         [ 0.3622,  0.0672, -0.7294, -0.6666],\n",
      "         [-0.3953, -0.0847, -0.2652,  0.8485],\n",
      "         [-0.4824, -0.3321,  0.7704, -0.1652]]])\n"
     ]
    }
   ],
   "source": [
    "import torch\n",
    "import torch.nn as nn\n",
    "import torch.nn.functional as F\n",
    "\n",
    "torch.manual_seed(42)\n",
    "\n",
    "image = torch.randn(1, 1, 6, 6)  # (Batch, Channels, Height, Width)\n",
    "\n",
    "# Define Conv2d with 3 output channels, kernel size 3x3, without bias\n",
    "conv_layer = nn.Conv2d(in_channels=1, out_channels=3, kernel_size=3, bias=False)\n",
    "#print(conv_layer.weight.data)\n",
    "output1 = conv_layer(image)\n",
    "kernel_weights = conv_layer.weight.data  # Shape: (3, 1, 3, 3)\n",
    "output2 = F.conv2d(image, kernel_weights, stride=1, padding=0)  # No bias\n",
    "is_same = torch.allclose(output1, output2)\n",
    "\n",
    "# Print results\n",
    "print(\"Output from nn.Conv2d:\\n\", output1.squeeze())\n",
    "print(\"Output from nn.Conv2d:\\n\", output2.squeeze())  # Remove batch dimension\n",
    "  # Remove batch dimension\n"
   ]
  },
  {
   "cell_type": "markdown",
   "metadata": {},
   "source": [
    "3. Implement CNN for classifying digits in MNIST dataset using PyTorch. Display the\n",
    "classification accuracy in the form of a Confusion matrix. Verify the number of learnable parameters in the model."
   ]
  },
  {
   "cell_type": "code",
   "execution_count": 11,
   "metadata": {},
   "outputs": [
    {
     "name": "stdout",
     "output_type": "stream",
     "text": [
      "Downloading http://yann.lecun.com/exdb/mnist/train-images-idx3-ubyte.gz\n",
      "Failed to download (trying next):\n",
      "HTTP Error 404: Not Found\n",
      "\n",
      "Downloading https://ossci-datasets.s3.amazonaws.com/mnist/train-images-idx3-ubyte.gz\n",
      "Downloading https://ossci-datasets.s3.amazonaws.com/mnist/train-images-idx3-ubyte.gz to ./data/MNIST/raw/train-images-idx3-ubyte.gz\n",
      "Failed download. Trying https -> http instead. Downloading http://ossci-datasets.s3.amazonaws.com/mnist/train-images-idx3-ubyte.gz to ./data/MNIST/raw/train-images-idx3-ubyte.gz\n"
     ]
    },
    {
     "name": "stderr",
     "output_type": "stream",
     "text": [
      "100.0%\n"
     ]
    },
    {
     "name": "stdout",
     "output_type": "stream",
     "text": [
      "Extracting ./data/MNIST/raw/train-images-idx3-ubyte.gz to ./data/MNIST/raw\n",
      "\n",
      "Downloading http://yann.lecun.com/exdb/mnist/train-labels-idx1-ubyte.gz\n",
      "Failed to download (trying next):\n",
      "HTTP Error 404: Not Found\n",
      "\n",
      "Downloading https://ossci-datasets.s3.amazonaws.com/mnist/train-labels-idx1-ubyte.gz\n",
      "Downloading https://ossci-datasets.s3.amazonaws.com/mnist/train-labels-idx1-ubyte.gz to ./data/MNIST/raw/train-labels-idx1-ubyte.gz\n"
     ]
    },
    {
     "name": "stderr",
     "output_type": "stream",
     "text": [
      "100.0%\n"
     ]
    },
    {
     "name": "stdout",
     "output_type": "stream",
     "text": [
      "Extracting ./data/MNIST/raw/train-labels-idx1-ubyte.gz to ./data/MNIST/raw\n",
      "\n",
      "Downloading http://yann.lecun.com/exdb/mnist/t10k-images-idx3-ubyte.gz\n",
      "Failed to download (trying next):\n",
      "HTTP Error 404: Not Found\n",
      "\n",
      "Downloading https://ossci-datasets.s3.amazonaws.com/mnist/t10k-images-idx3-ubyte.gz\n",
      "Downloading https://ossci-datasets.s3.amazonaws.com/mnist/t10k-images-idx3-ubyte.gz to ./data/MNIST/raw/t10k-images-idx3-ubyte.gz\n"
     ]
    },
    {
     "name": "stderr",
     "output_type": "stream",
     "text": [
      "100.0%\n"
     ]
    },
    {
     "name": "stdout",
     "output_type": "stream",
     "text": [
      "Extracting ./data/MNIST/raw/t10k-images-idx3-ubyte.gz to ./data/MNIST/raw\n",
      "\n",
      "Downloading http://yann.lecun.com/exdb/mnist/t10k-labels-idx1-ubyte.gz\n",
      "Failed to download (trying next):\n",
      "HTTP Error 404: Not Found\n",
      "\n",
      "Downloading https://ossci-datasets.s3.amazonaws.com/mnist/t10k-labels-idx1-ubyte.gz\n",
      "Downloading https://ossci-datasets.s3.amazonaws.com/mnist/t10k-labels-idx1-ubyte.gz to ./data/MNIST/raw/t10k-labels-idx1-ubyte.gz\n"
     ]
    },
    {
     "name": "stderr",
     "output_type": "stream",
     "text": [
      "100.0%\n",
      "/home/mustafa/.local/lib/python3.8/site-packages/torch/cuda/__init__.py:128: UserWarning: CUDA initialization: CUDA unknown error - this may be due to an incorrectly set up environment, e.g. changing env variable CUDA_VISIBLE_DEVICES after program start. Setting the available devices to be zero. (Triggered internally at ../c10/cuda/CUDAFunctions.cpp:108.)\n",
      "  return torch._C._cuda_getDeviceCount() > 0\n"
     ]
    },
    {
     "name": "stdout",
     "output_type": "stream",
     "text": [
      "Extracting ./data/MNIST/raw/t10k-labels-idx1-ubyte.gz to ./data/MNIST/raw\n",
      "\n",
      "Epoch [1/5], Loss: 0.1692, Accuracy: 94.82%\n",
      "Epoch [2/5], Loss: 0.0482, Accuracy: 98.56%\n",
      "Epoch [3/5], Loss: 0.0328, Accuracy: 98.98%\n",
      "Epoch [4/5], Loss: 0.0248, Accuracy: 99.20%\n",
      "Epoch [5/5], Loss: 0.0195, Accuracy: 99.36%\n"
     ]
    },
    {
     "data": {
      "image/png": "[encoded data removed]",
      "text/plain": [
       "<Figure size 1000x700 with 2 Axes>"
      ]
     },
     "metadata": {},
     "output_type": "display_data"
    },
    {
     "name": "stdout",
     "output_type": "stream",
     "text": [
      "Total number of learnable parameters: 421642\n"
     ]
    }
   ],
   "source": [
    "import torch\n",
    "import torch.nn as nn\n",
    "import torch.optim as optim\n",
    "import torch.nn.functional as F\n",
    "from torchvision import datasets, transforms\n",
    "from torch.utils.data import DataLoader\n",
    "import matplotlib.pyplot as plt\n",
    "import seaborn as sns\n",
    "from sklearn.metrics import confusion_matrix\n",
    "import numpy as np\n",
    "\n",
    "torch.manual_seed(42)\n",
    "\n",
    "transform = transforms.Compose([\n",
    "    transforms.ToTensor(),\n",
    "    transforms.Normalize((0.5,), (0.5,))\n",
    "])\n",
    "\n",
    "train_dataset = datasets.MNIST(root='./data', train=True, download=True, transform=transform)\n",
    "test_dataset = datasets.MNIST(root='./data', train=False, download=True, transform=transform)\n",
    "\n",
    "train_loader = DataLoader(train_dataset, batch_size=64, shuffle=True)\n",
    "test_loader = DataLoader(test_dataset, batch_size=64, shuffle=False)\n",
    "\n",
    "class CNN(nn.Module):\n",
    "    def __init__(self):\n",
    "        super(CNN, self).__init__()\n",
    "        self.conv1 = nn.Conv2d(1, 32, kernel_size=3, stride=1, padding=1)  # Conv layer 1\n",
    "        self.conv2 = nn.Conv2d(32, 64, kernel_size=3, stride=1, padding=1)  # Conv layer 2\n",
    "        self.fc1 = nn.Linear(64 * 7 * 7, 128)  # Fully connected layer\n",
    "        self.fc2 = nn.Linear(128, 10)  # Output layer (10 digits)\n",
    "\n",
    "    def forward(self, x):\n",
    "        x = torch.relu(self.conv1(x))  # Activation after conv1\n",
    "        x = F.max_pool2d(x, 2, 2)  # Pooling layer 1\n",
    "        x = F.relu(self.conv2(x))  # Activation after conv2\n",
    "        x = F.max_pool2d(x, 2, 2)  # Pooling layer 2\n",
    "        x = x.view(-1, 64 * 7 * 7)  # Flatten before FC layers\n",
    "        x = F.relu(self.fc1(x))\n",
    "        x = self.fc2(x)  # No softmax (CrossEntropyLoss includes it)\n",
    "        return x\n",
    "\n",
    "device = torch.device(\"cuda\" if torch.cuda.is_available() else \"cpu\")\n",
    "model = CNN().to(device)\n",
    "\n",
    "criterion = nn.CrossEntropyLoss()\n",
    "optimizer = optim.Adam(model.parameters(), lr=0.001)\n",
    "\n",
    "num_epochs = 5\n",
    "\n",
    "for epoch in range(num_epochs):\n",
    "    model.train()\n",
    "    running_loss = 0.0\n",
    "    correct, total = 0, 0\n",
    "\n",
    "    for inputs, labels in train_loader:\n",
    "        inputs, labels = inputs.to(device), labels.to(device)\n",
    "\n",
    "        optimizer.zero_grad()\n",
    "        outputs = model(inputs)\n",
    "        loss = criterion(outputs, labels)\n",
    "        loss.backward()\n",
    "        optimizer.step()\n",
    "\n",
    "        running_loss += loss.item()\n",
    "        _, predicted = torch.max(outputs, 1)\n",
    "        total += labels.size(0)\n",
    "        correct += (predicted == labels).sum().item()\n",
    "\n",
    "    print(f\"Epoch [{epoch+1}/{num_epochs}], Loss: {running_loss/len(train_loader):.4f}, Accuracy: {100 * correct/total:.2f}%\")\n",
    "\n",
    "model.eval()\n",
    "y_true, y_pred = [], []\n",
    "\n",
    "with torch.no_grad():\n",
    "    for inputs, labels in test_loader:\n",
    "        inputs, labels = inputs.to(device), labels.to(device)\n",
    "        outputs = model(inputs)\n",
    "        _, predicted = torch.max(outputs, 1)\n",
    "        y_true.extend(labels.cpu().numpy())\n",
    "        y_pred.extend(predicted.cpu().numpy())\n",
    "\n",
    "cm = confusion_matrix(y_true, y_pred)\n",
    "\n",
    "plt.figure(figsize=(10, 7))\n",
    "sns.heatmap(cm, annot=True, fmt=\"d\", cmap=\"Blues\", xticklabels=range(10), yticklabels=range(10))\n",
    "plt.xlabel(\"Predicted\")\n",
    "plt.ylabel(\"True\")\n",
    "plt.title(\"Confusion Matrix\")\n",
    "plt.show()\n",
    "\n",
    "# 8️⃣ Compute Learnable Parameters\n",
    "total_params = sum(p.numel() for p in model.parameters() if p.requires_grad)\n",
    "print(f\"Total number of learnable parameters: {total_params}\")\n"
   ]
  },
  {
   "cell_type": "code",
   "execution_count": null,
   "metadata": {},
   "outputs": [],
   "source": []
  }
 ],
 "metadata": {
  "kernelspec": {
   "display_name": "Python 3",
   "language": "python",
   "name": "python3"
  },
  "language_info": {
   "codemirror_mode": {
    "name": "ipython",
    "version": 3
   },
   "file_extension": ".py",
   "mimetype": "text/x-python",
   "name": "python",
   "nbconvert_exporter": "python",
   "pygments_lexer": "ipython3",
   "version": "3.8.10"
  }
 },
 "nbformat": 4,
 "nbformat_minor": 2
}
